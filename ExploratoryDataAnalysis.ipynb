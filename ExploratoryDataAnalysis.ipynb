{
 "cells": [
  {
   "cell_type": "code",
   "execution_count": 4,
   "id": "ff50c98c-cc9d-4435-9c95-cbacc06da9d6",
   "metadata": {
    "editable": true,
    "slideshow": {
     "slide_type": ""
    },
    "tags": []
   },
   "outputs": [],
   "source": [
    "import pandas as pd\n",
    "import numpy as np"
   ]
  },
  {
   "cell_type": "code",
   "execution_count": 165,
   "id": "8d25dc6b-7413-4cb7-9713-b339b814fbc3",
   "metadata": {},
   "outputs": [],
   "source": [
    "dict={\"Location\":[\"United States\",\"India\",\"Brazil\",\"Russia\",\"United Kingdom\"],\"Cases\":[28,11079979,10537473,84568527574592,57295797575279],\"Deaths\":[517204,156938,254263,86122,122705],\"Recovered\":[\"\",10763451,9386440,3811797,\"\"]}"
   ]
  },
  {
   "cell_type": "code",
   "execution_count": 166,
   "id": "7f02ebb0-4ece-4543-b10b-2196def2e153",
   "metadata": {},
   "outputs": [],
   "source": [
    "df=pd.DataFrame(dict,index=[\"a\",\"b\",\"c\",\"d\",\"e\"])"
   ]
  },
  {
   "cell_type": "code",
   "execution_count": 167,
   "id": "2b18b136-aca9-450e-987c-5269630fdaf7",
   "metadata": {},
   "outputs": [
    {
     "data": {
      "text/html": [
       "<div>\n",
       "<style scoped>\n",
       "    .dataframe tbody tr th:only-of-type {\n",
       "        vertical-align: middle;\n",
       "    }\n",
       "\n",
       "    .dataframe tbody tr th {\n",
       "        vertical-align: top;\n",
       "    }\n",
       "\n",
       "    .dataframe thead th {\n",
       "        text-align: right;\n",
       "    }\n",
       "</style>\n",
       "<table border=\"1\" class=\"dataframe\">\n",
       "  <thead>\n",
       "    <tr style=\"text-align: right;\">\n",
       "      <th></th>\n",
       "      <th>Location</th>\n",
       "      <th>Cases</th>\n",
       "      <th>Deaths</th>\n",
       "      <th>Recovered</th>\n",
       "    </tr>\n",
       "  </thead>\n",
       "  <tbody>\n",
       "    <tr>\n",
       "      <th>a</th>\n",
       "      <td>United States</td>\n",
       "      <td>28</td>\n",
       "      <td>517204</td>\n",
       "      <td></td>\n",
       "    </tr>\n",
       "    <tr>\n",
       "      <th>b</th>\n",
       "      <td>India</td>\n",
       "      <td>11079979</td>\n",
       "      <td>156938</td>\n",
       "      <td>10763451</td>\n",
       "    </tr>\n",
       "    <tr>\n",
       "      <th>c</th>\n",
       "      <td>Brazil</td>\n",
       "      <td>10537473</td>\n",
       "      <td>254263</td>\n",
       "      <td>9386440</td>\n",
       "    </tr>\n",
       "    <tr>\n",
       "      <th>d</th>\n",
       "      <td>Russia</td>\n",
       "      <td>84568527574592</td>\n",
       "      <td>86122</td>\n",
       "      <td>3811797</td>\n",
       "    </tr>\n",
       "    <tr>\n",
       "      <th>e</th>\n",
       "      <td>United Kingdom</td>\n",
       "      <td>57295797575279</td>\n",
       "      <td>122705</td>\n",
       "      <td></td>\n",
       "    </tr>\n",
       "  </tbody>\n",
       "</table>\n",
       "</div>"
      ],
      "text/plain": [
       "         Location           Cases  Deaths Recovered\n",
       "a   United States              28  517204          \n",
       "b           India        11079979  156938  10763451\n",
       "c          Brazil        10537473  254263   9386440\n",
       "d          Russia  84568527574592   86122   3811797\n",
       "e  United Kingdom  57295797575279  122705          "
      ]
     },
     "execution_count": 167,
     "metadata": {},
     "output_type": "execute_result"
    }
   ],
   "source": [
    "df"
   ]
  },
  {
   "cell_type": "code",
   "execution_count": 168,
   "id": "17f90d44-368b-4437-a90d-34246ba696e5",
   "metadata": {},
   "outputs": [],
   "source": [
    "dict=pd.DataFrame(dict,columns=[\"Location\",\"Cases\",\"Status\"])"
   ]
  },
  {
   "cell_type": "code",
   "execution_count": 169,
   "id": "0c0b5bbe-e048-45e6-90d3-ba5531a427e3",
   "metadata": {},
   "outputs": [
    {
     "data": {
      "text/html": [
       "<div>\n",
       "<style scoped>\n",
       "    .dataframe tbody tr th:only-of-type {\n",
       "        vertical-align: middle;\n",
       "    }\n",
       "\n",
       "    .dataframe tbody tr th {\n",
       "        vertical-align: top;\n",
       "    }\n",
       "\n",
       "    .dataframe thead th {\n",
       "        text-align: right;\n",
       "    }\n",
       "</style>\n",
       "<table border=\"1\" class=\"dataframe\">\n",
       "  <thead>\n",
       "    <tr style=\"text-align: right;\">\n",
       "      <th></th>\n",
       "      <th>Location</th>\n",
       "      <th>Cases</th>\n",
       "      <th>Deaths</th>\n",
       "      <th>Recovered</th>\n",
       "    </tr>\n",
       "  </thead>\n",
       "  <tbody>\n",
       "    <tr>\n",
       "      <th>a</th>\n",
       "      <td>United States</td>\n",
       "      <td>28</td>\n",
       "      <td>517204</td>\n",
       "      <td></td>\n",
       "    </tr>\n",
       "    <tr>\n",
       "      <th>b</th>\n",
       "      <td>India</td>\n",
       "      <td>11079979</td>\n",
       "      <td>156938</td>\n",
       "      <td>10763451</td>\n",
       "    </tr>\n",
       "    <tr>\n",
       "      <th>c</th>\n",
       "      <td>Brazil</td>\n",
       "      <td>10537473</td>\n",
       "      <td>254263</td>\n",
       "      <td>9386440</td>\n",
       "    </tr>\n",
       "    <tr>\n",
       "      <th>d</th>\n",
       "      <td>Russia</td>\n",
       "      <td>84568527574592</td>\n",
       "      <td>86122</td>\n",
       "      <td>3811797</td>\n",
       "    </tr>\n",
       "    <tr>\n",
       "      <th>e</th>\n",
       "      <td>United Kingdom</td>\n",
       "      <td>57295797575279</td>\n",
       "      <td>122705</td>\n",
       "      <td></td>\n",
       "    </tr>\n",
       "  </tbody>\n",
       "</table>\n",
       "</div>"
      ],
      "text/plain": [
       "         Location           Cases  Deaths Recovered\n",
       "a   United States              28  517204          \n",
       "b           India        11079979  156938  10763451\n",
       "c          Brazil        10537473  254263   9386440\n",
       "d          Russia  84568527574592   86122   3811797\n",
       "e  United Kingdom  57295797575279  122705          "
      ]
     },
     "execution_count": 169,
     "metadata": {},
     "output_type": "execute_result"
    }
   ],
   "source": [
    "df"
   ]
  },
  {
   "cell_type": "code",
   "execution_count": 170,
   "id": "13bd402e-15d0-4593-b2a4-05853a0bf5e4",
   "metadata": {},
   "outputs": [],
   "source": [
    "# Define a function to determine the status based on the number of cases\n",
    "def determine_status(row):\n",
    "    if row['Cases'] < 3000000:\n",
    "        return 'Low'\n",
    "    elif 3000000 <= row['Cases'] < 4000000:\n",
    "        return 'Medium'\n",
    "    else:\n",
    "        return 'High'\n",
    "\n",
    "# Apply the function to create the new \"Status\" column\n",
    "df['Status'] = df.apply(determine_status,axis=1)"
   ]
  },
  {
   "cell_type": "code",
   "execution_count": 171,
   "id": "33bc433a-852a-4fc3-bf79-7ec944001480",
   "metadata": {},
   "outputs": [],
   "source": [
    "df['Recovered'] = pd.to_numeric(df['Recovered'])"
   ]
  },
  {
   "cell_type": "code",
   "execution_count": 172,
   "id": "21bb8073-13f7-493f-88b0-59622b19bf7a",
   "metadata": {},
   "outputs": [
    {
     "data": {
      "text/plain": [
       "a    5.0\n",
       "b    3.0\n",
       "c    4.0\n",
       "d    1.0\n",
       "e    2.0\n",
       "Name: Deaths, dtype: float64"
      ]
     },
     "execution_count": 172,
     "metadata": {},
     "output_type": "execute_result"
    }
   ],
   "source": [
    "df[\"Deaths\"].rank()"
   ]
  },
  {
   "cell_type": "code",
   "execution_count": 173,
   "id": "e76ad7fe-3a97-4edc-aada-4be463ee1212",
   "metadata": {},
   "outputs": [
    {
     "data": {
      "text/plain": [
       "Location     5\n",
       "Cases        5\n",
       "Deaths       5\n",
       "Recovered    3\n",
       "Status       5\n",
       "dtype: int64"
      ]
     },
     "execution_count": 173,
     "metadata": {},
     "output_type": "execute_result"
    }
   ],
   "source": [
    "df.count()"
   ]
  },
  {
   "cell_type": "code",
   "execution_count": 174,
   "id": "e9f87cdd-697d-4ad2-92b2-5f2bc71a2bd0",
   "metadata": {},
   "outputs": [
    {
     "data": {
      "text/html": [
       "<div>\n",
       "<style scoped>\n",
       "    .dataframe tbody tr th:only-of-type {\n",
       "        vertical-align: middle;\n",
       "    }\n",
       "\n",
       "    .dataframe tbody tr th {\n",
       "        vertical-align: top;\n",
       "    }\n",
       "\n",
       "    .dataframe thead th {\n",
       "        text-align: right;\n",
       "    }\n",
       "</style>\n",
       "<table border=\"1\" class=\"dataframe\">\n",
       "  <thead>\n",
       "    <tr style=\"text-align: right;\">\n",
       "      <th></th>\n",
       "      <th>Cases</th>\n",
       "      <th>Deaths</th>\n",
       "      <th>Recovered</th>\n",
       "    </tr>\n",
       "  </thead>\n",
       "  <tbody>\n",
       "    <tr>\n",
       "      <th>count</th>\n",
       "      <td>5.000000e+00</td>\n",
       "      <td>5.000000</td>\n",
       "      <td>3.000000e+00</td>\n",
       "    </tr>\n",
       "    <tr>\n",
       "      <th>mean</th>\n",
       "      <td>2.837287e+13</td>\n",
       "      <td>227446.400000</td>\n",
       "      <td>7.987229e+06</td>\n",
       "    </tr>\n",
       "    <tr>\n",
       "      <th>std</th>\n",
       "      <td>4.002982e+13</td>\n",
       "      <td>173632.786487</td>\n",
       "      <td>3.680994e+06</td>\n",
       "    </tr>\n",
       "    <tr>\n",
       "      <th>min</th>\n",
       "      <td>2.800000e+01</td>\n",
       "      <td>86122.000000</td>\n",
       "      <td>3.811797e+06</td>\n",
       "    </tr>\n",
       "    <tr>\n",
       "      <th>25%</th>\n",
       "      <td>1.053747e+07</td>\n",
       "      <td>122705.000000</td>\n",
       "      <td>6.599118e+06</td>\n",
       "    </tr>\n",
       "    <tr>\n",
       "      <th>50%</th>\n",
       "      <td>1.107998e+07</td>\n",
       "      <td>156938.000000</td>\n",
       "      <td>9.386440e+06</td>\n",
       "    </tr>\n",
       "    <tr>\n",
       "      <th>75%</th>\n",
       "      <td>5.729580e+13</td>\n",
       "      <td>254263.000000</td>\n",
       "      <td>1.007495e+07</td>\n",
       "    </tr>\n",
       "    <tr>\n",
       "      <th>max</th>\n",
       "      <td>8.456853e+13</td>\n",
       "      <td>517204.000000</td>\n",
       "      <td>1.076345e+07</td>\n",
       "    </tr>\n",
       "  </tbody>\n",
       "</table>\n",
       "</div>"
      ],
      "text/plain": [
       "              Cases         Deaths     Recovered\n",
       "count  5.000000e+00       5.000000  3.000000e+00\n",
       "mean   2.837287e+13  227446.400000  7.987229e+06\n",
       "std    4.002982e+13  173632.786487  3.680994e+06\n",
       "min    2.800000e+01   86122.000000  3.811797e+06\n",
       "25%    1.053747e+07  122705.000000  6.599118e+06\n",
       "50%    1.107998e+07  156938.000000  9.386440e+06\n",
       "75%    5.729580e+13  254263.000000  1.007495e+07\n",
       "max    8.456853e+13  517204.000000  1.076345e+07"
      ]
     },
     "execution_count": 174,
     "metadata": {},
     "output_type": "execute_result"
    }
   ],
   "source": [
    "df.describe()"
   ]
  },
  {
   "cell_type": "code",
   "execution_count": 152,
   "id": "e7f3baae-0a8b-440f-a0d0-d60eff09a97e",
   "metadata": {
    "scrolled": true
   },
   "outputs": [],
   "source": [
    "df.fillna({'Recovered': 0}, inplace=True)"
   ]
  },
  {
   "cell_type": "code",
   "execution_count": 153,
   "id": "6ae4dec7-5e85-4921-b45b-15b78276694c",
   "metadata": {},
   "outputs": [
    {
     "data": {
      "text/html": [
       "<div>\n",
       "<style scoped>\n",
       "    .dataframe tbody tr th:only-of-type {\n",
       "        vertical-align: middle;\n",
       "    }\n",
       "\n",
       "    .dataframe tbody tr th {\n",
       "        vertical-align: top;\n",
       "    }\n",
       "\n",
       "    .dataframe thead th {\n",
       "        text-align: right;\n",
       "    }\n",
       "</style>\n",
       "<table border=\"1\" class=\"dataframe\">\n",
       "  <thead>\n",
       "    <tr style=\"text-align: right;\">\n",
       "      <th></th>\n",
       "      <th>Location</th>\n",
       "      <th>Cases</th>\n",
       "      <th>Deaths</th>\n",
       "      <th>Recovered</th>\n",
       "      <th>Status</th>\n",
       "    </tr>\n",
       "  </thead>\n",
       "  <tbody>\n",
       "    <tr>\n",
       "      <th>a</th>\n",
       "      <td>United States</td>\n",
       "      <td>28</td>\n",
       "      <td>517204</td>\n",
       "      <td>0.0</td>\n",
       "      <td>Low</td>\n",
       "    </tr>\n",
       "    <tr>\n",
       "      <th>b</th>\n",
       "      <td>India</td>\n",
       "      <td>11079979</td>\n",
       "      <td>156938</td>\n",
       "      <td>10763451.0</td>\n",
       "      <td>High</td>\n",
       "    </tr>\n",
       "    <tr>\n",
       "      <th>c</th>\n",
       "      <td>Brazil</td>\n",
       "      <td>10537473</td>\n",
       "      <td>254263</td>\n",
       "      <td>9386440.0</td>\n",
       "      <td>High</td>\n",
       "    </tr>\n",
       "    <tr>\n",
       "      <th>d</th>\n",
       "      <td>Russia</td>\n",
       "      <td>84568527574592</td>\n",
       "      <td>86122</td>\n",
       "      <td>3811797.0</td>\n",
       "      <td>High</td>\n",
       "    </tr>\n",
       "    <tr>\n",
       "      <th>e</th>\n",
       "      <td>United Kingdom</td>\n",
       "      <td>57295797575279</td>\n",
       "      <td>122705</td>\n",
       "      <td>0.0</td>\n",
       "      <td>High</td>\n",
       "    </tr>\n",
       "  </tbody>\n",
       "</table>\n",
       "</div>"
      ],
      "text/plain": [
       "         Location           Cases  Deaths   Recovered Status\n",
       "a   United States              28  517204         0.0    Low\n",
       "b           India        11079979  156938  10763451.0   High\n",
       "c          Brazil        10537473  254263   9386440.0   High\n",
       "d          Russia  84568527574592   86122   3811797.0   High\n",
       "e  United Kingdom  57295797575279  122705         0.0   High"
      ]
     },
     "execution_count": 153,
     "metadata": {},
     "output_type": "execute_result"
    }
   ],
   "source": [
    "df"
   ]
  },
  {
   "cell_type": "code",
   "execution_count": 154,
   "id": "42ed3725-e2ea-41c8-885a-2ace0ad2371a",
   "metadata": {},
   "outputs": [
    {
     "data": {
      "text/plain": [
       "Location     Brazil\n",
       "Cases            28\n",
       "Deaths        86122\n",
       "Recovered       0.0\n",
       "Status         High\n",
       "dtype: object"
      ]
     },
     "execution_count": 154,
     "metadata": {},
     "output_type": "execute_result"
    }
   ],
   "source": [
    "df.min()"
   ]
  },
  {
   "cell_type": "code",
   "execution_count": 155,
   "id": "aedbbb6e-8c97-4532-b82c-6b8c8361d78f",
   "metadata": {},
   "outputs": [
    {
     "data": {
      "text/plain": [
       "Location      United States\n",
       "Cases        84568527574592\n",
       "Deaths               517204\n",
       "Recovered        10763451.0\n",
       "Status                  Low\n",
       "dtype: object"
      ]
     },
     "execution_count": 155,
     "metadata": {},
     "output_type": "execute_result"
    }
   ],
   "source": [
    "df.max()"
   ]
  },
  {
   "cell_type": "code",
   "execution_count": 156,
   "id": "ed391d95-cc70-414c-8752-43939b4269e6",
   "metadata": {},
   "outputs": [
    {
     "data": {
      "text/plain": [
       "3"
      ]
     },
     "execution_count": 156,
     "metadata": {},
     "output_type": "execute_result"
    }
   ],
   "source": [
    "np.argmin(df[\"Deaths\"])"
   ]
  },
  {
   "cell_type": "code",
   "execution_count": 157,
   "id": "377847e4-b43a-4a64-83e0-65419d342e7a",
   "metadata": {},
   "outputs": [],
   "source": [
    "min_index = df['Cases'].idxmin()\n"
   ]
  },
  {
   "cell_type": "code",
   "execution_count": 158,
   "id": "727e16dc-5e6e-4146-bb70-6a19eace103f",
   "metadata": {},
   "outputs": [
    {
     "data": {
      "text/plain": [
       "'a'"
      ]
     },
     "execution_count": 158,
     "metadata": {},
     "output_type": "execute_result"
    }
   ],
   "source": [
    "min_index"
   ]
  },
  {
   "cell_type": "code",
   "execution_count": 159,
   "id": "1aa7bf86-49ee-4e14-9d98-75c03e208ba8",
   "metadata": {},
   "outputs": [
    {
     "name": "stdout",
     "output_type": "stream",
     "text": [
      "-1.8578762342437436\n"
     ]
    }
   ],
   "source": [
    "\n",
    "\n",
    "# Assuming df is your DataFrame\n",
    "kurtosis_values = df[\"Cases\"].kurt()\n",
    "print(kurtosis_values)\n"
   ]
  },
  {
   "cell_type": "code",
   "execution_count": 160,
   "id": "a62542d1-9cfd-461b-a521-6b9c66b1c13c",
   "metadata": {},
   "outputs": [
    {
     "name": "stdout",
     "output_type": "stream",
     "text": [
      "a             NaN\n",
      "b    3.957125e+05\n",
      "c   -4.896273e-02\n",
      "d    8.025503e+06\n",
      "e   -3.224927e-01\n",
      "Name: Cases, dtype: float64\n"
     ]
    }
   ],
   "source": [
    "# Assuming df is your DataFrame\n",
    "per_change= df[\"Cases\"].pct_change()\n",
    "print(per_change)\n"
   ]
  },
  {
   "cell_type": "code",
   "execution_count": 161,
   "id": "a6c0bec3-caa4-48fc-8cd7-cd038b10f949",
   "metadata": {},
   "outputs": [
    {
     "name": "stderr",
     "output_type": "stream",
     "text": [
      "C:\\Users\\SAAD COMMUNICATION\\AppData\\Local\\Temp\\ipykernel_9180\\2162155955.py:1: FutureWarning: A value is trying to be set on a copy of a DataFrame or Series through chained assignment using an inplace method.\n",
      "The behavior will change in pandas 3.0. This inplace method will never work because the intermediate object on which we are setting values always behaves as a copy.\n",
      "\n",
      "For example, when doing 'df[col].method(value, inplace=True)', try using 'df.method({col: value}, inplace=True)' or df[col] = df[col].method(value) instead, to perform the operation inplace on the original object.\n",
      "\n",
      "\n",
      "  df['Recovered'].fillna(0, inplace=True)\n"
     ]
    }
   ],
   "source": [
    "df['Recovered'].fillna(0, inplace=True)"
   ]
  },
  {
   "cell_type": "code",
   "execution_count": 162,
   "id": "d72112c4-3c2f-497c-a03a-358e7f1af428",
   "metadata": {},
   "outputs": [
    {
     "data": {
      "text/plain": [
       "a           0.0\n",
       "b    10763451.0\n",
       "c     9386440.0\n",
       "d     3811797.0\n",
       "e           0.0\n",
       "Name: Recovered, dtype: float64"
      ]
     },
     "execution_count": 162,
     "metadata": {},
     "output_type": "execute_result"
    }
   ],
   "source": [
    "df['Recovered'].head()"
   ]
  },
  {
   "cell_type": "code",
   "execution_count": 163,
   "id": "f3765ccd-3f23-4bf4-b601-f967e1ec4ad6",
   "metadata": {},
   "outputs": [],
   "source": [
    "recovered_mean = df['Recovered'].mean()"
   ]
  },
  {
   "cell_type": "code",
   "execution_count": null,
   "id": "1c599333-b0a0-4ef5-af95-da2ba60a76f8",
   "metadata": {},
   "outputs": [],
   "source": [
    "df['Recovered'].fillna(recovered_mean, inplace=True)"
   ]
  },
  {
   "cell_type": "code",
   "execution_count": 5,
   "id": "7e36f618-ada9-4992-a181-6377bb59f143",
   "metadata": {},
   "outputs": [],
   "source": [
    "s1=pd.Series([7,-5,7,4,2,0,4])"
   ]
  },
  {
   "cell_type": "code",
   "execution_count": 6,
   "id": "03cda83f-e5b7-49be-89d7-e4f5234f7ea8",
   "metadata": {},
   "outputs": [
    {
     "data": {
      "text/plain": [
       "0    6.5\n",
       "1    1.0\n",
       "2    6.5\n",
       "3    4.5\n",
       "4    3.0\n",
       "5    2.0\n",
       "6    4.5\n",
       "dtype: float64"
      ]
     },
     "execution_count": 6,
     "metadata": {},
     "output_type": "execute_result"
    }
   ],
   "source": [
    "s1.rank()"
   ]
  },
  {
   "cell_type": "code",
   "execution_count": 7,
   "id": "4d4cb2ec-8093-4d5f-a578-38f73283ebb8",
   "metadata": {},
   "outputs": [
    {
     "data": {
      "text/plain": [
       "0    6.0\n",
       "1    1.0\n",
       "2    7.0\n",
       "3    4.0\n",
       "4    3.0\n",
       "5    2.0\n",
       "6    5.0\n",
       "dtype: float64"
      ]
     },
     "execution_count": 7,
     "metadata": {},
     "output_type": "execute_result"
    }
   ],
   "source": [
    "s1.rank(method=\"first\")"
   ]
  },
  {
   "cell_type": "code",
   "execution_count": 8,
   "id": "dc75ef61-f9f7-4b6c-812f-69f3fe2b1a05",
   "metadata": {},
   "outputs": [
    {
     "data": {
      "text/plain": [
       "0    7.0\n",
       "1    1.0\n",
       "2    7.0\n",
       "3    5.0\n",
       "4    3.0\n",
       "5    2.0\n",
       "6    5.0\n",
       "dtype: float64"
      ]
     },
     "execution_count": 8,
     "metadata": {},
     "output_type": "execute_result"
    }
   ],
   "source": [
    "s1.rank(ascending=\"False\",method=\"max\")"
   ]
  },
  {
   "cell_type": "code",
   "execution_count": 31,
   "id": "e6ab01a1-a6d2-42ae-8f80-35731575349c",
   "metadata": {},
   "outputs": [],
   "source": [
    "array=np.random.randn(3,3)"
   ]
  },
  {
   "cell_type": "code",
   "execution_count": 32,
   "id": "3c81f752-1744-4ef6-9d33-e4db2ed04151",
   "metadata": {},
   "outputs": [
    {
     "data": {
      "text/plain": [
       "array([[ 0.19950885, -0.13408704, -0.6715174 ],\n",
       "       [ 0.11286222, -0.53598393, -0.48652454],\n",
       "       [-1.41740713,  0.92193642, -1.1375107 ]])"
      ]
     },
     "execution_count": 32,
     "metadata": {},
     "output_type": "execute_result"
    }
   ],
   "source": [
    "array"
   ]
  },
  {
   "cell_type": "code",
   "execution_count": 33,
   "id": "ae117d3b-75f7-4afc-a19e-53936e26587f",
   "metadata": {},
   "outputs": [
    {
     "data": {
      "text/plain": [
       "2"
      ]
     },
     "execution_count": 33,
     "metadata": {},
     "output_type": "execute_result"
    }
   ],
   "source": [
    "array.ndim"
   ]
  },
  {
   "cell_type": "raw",
   "id": "e757949d-223e-490f-bf72-464b084564c1",
   "metadata": {},
   "source": []
  },
  {
   "cell_type": "code",
   "execution_count": 34,
   "id": "53f8d177-af29-4126-a654-3846e5523d4f",
   "metadata": {},
   "outputs": [
    {
     "data": {
      "text/plain": [
       "array([[-1.1375107 ,  0.92193642, -1.41740713],\n",
       "       [-0.48652454, -0.53598393,  0.11286222],\n",
       "       [-0.6715174 , -0.13408704,  0.19950885]])"
      ]
     },
     "execution_count": 34,
     "metadata": {},
     "output_type": "execute_result"
    }
   ],
   "source": [
    "array[::-1,::-1]"
   ]
  },
  {
   "cell_type": "code",
   "execution_count": 35,
   "id": "fad56f02-2cd4-4b9a-885c-96f4a93f3163",
   "metadata": {},
   "outputs": [
    {
     "data": {
      "text/plain": [
       "array([[ 0.19950885,  0.11286222, -1.41740713],\n",
       "       [-0.13408704, -0.53598393,  0.92193642],\n",
       "       [-0.6715174 , -0.48652454, -1.1375107 ]])"
      ]
     },
     "execution_count": 35,
     "metadata": {},
     "output_type": "execute_result"
    }
   ],
   "source": [
    "array.T"
   ]
  },
  {
   "cell_type": "code",
   "execution_count": null,
   "id": "07e44950-a4f2-4947-b905-07c863f3db64",
   "metadata": {},
   "outputs": [],
   "source": []
  },
  {
   "cell_type": "code",
   "execution_count": null,
   "id": "db13cba4-d443-4010-880f-1202d9491d04",
   "metadata": {},
   "outputs": [],
   "source": []
  },
  {
   "cell_type": "code",
   "execution_count": null,
   "id": "c3e62c3a-f8a7-483f-872c-5272d480515e",
   "metadata": {},
   "outputs": [],
   "source": []
  },
  {
   "cell_type": "code",
   "execution_count": null,
   "id": "f6b66a36-b1b6-446b-934b-e147100e63ab",
   "metadata": {},
   "outputs": [],
   "source": []
  },
  {
   "cell_type": "code",
   "execution_count": null,
   "id": "bae06770-61e5-48c5-bc2e-bb1605fe5f5e",
   "metadata": {},
   "outputs": [],
   "source": []
  },
  {
   "cell_type": "code",
   "execution_count": null,
   "id": "1aa326d3-d868-4e75-b74f-d49286eca6f8",
   "metadata": {},
   "outputs": [],
   "source": []
  }
 ],
 "metadata": {
  "kernelspec": {
   "display_name": "Python 3 (ipykernel)",
   "language": "python",
   "name": "python3"
  },
  "language_info": {
   "codemirror_mode": {
    "name": "ipython",
    "version": 3
   },
   "file_extension": ".py",
   "mimetype": "text/x-python",
   "name": "python",
   "nbconvert_exporter": "python",
   "pygments_lexer": "ipython3",
   "version": "3.12.2"
  }
 },
 "nbformat": 4,
 "nbformat_minor": 5
}
